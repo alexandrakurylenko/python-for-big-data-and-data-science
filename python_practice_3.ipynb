{
 "nbformat": 4,
 "nbformat_minor": 0,
 "metadata": {
  "colab": {
   "provenance": []
  },
  "kernelspec": {
   "name": "python3",
   "display_name": "Python 3"
  },
  "language_info": {
   "name": "python"
  }
 },
 "cells": [
  {
   "cell_type": "markdown",
   "source": [
    "# I. Оператори порівняння та логічні оператори. Умови."
   ],
   "metadata": {
    "id": "qDEi2Pi-4yUC"
   }
  },
  {
   "cell_type": "markdown",
   "source": [
    "1. Створіть цілочисленну змінну зі своїм щасливим або улюбленим числом. Напишіть код, який би автоматизовував наступну задачу.\n",
    "\n",
    "Якщо число парне, помножте його на 2 та виведіть результат на екран.\n",
    "\n",
    "Але якщо число непарне, помножте його на 3 та додайте 1 і виведіть на екран."
   ],
   "metadata": {
    "id": "3v8D4Dkm43Ua"
   }
  },
  {
   "cell_type": "code",
   "execution_count": null,
   "metadata": {
    "id": "dlVjc-Nu4bmb",
    "colab": {
     "base_uri": "https://localhost:8080/"
    },
    "outputId": "4939403b-e741-4783-c689-781834108331",
    "pycharm": {
     "is_executing": true
    }
   },
   "outputs": [],
   "source": [
    "my_int = 6\n",
    "if my_int%2 == 0:\n",
    "  print(my_int*2)\n",
    "else:\n",
    "  print(my_int*2+1)"
   ]
  },
  {
   "cell_type": "markdown",
   "source": [
    "2. Створіть змінну, що посилається на список. Якщо список пустий, додайте будь-який елемент у кінець списку. Якщо ж ні, то нічого не робіть."
   ],
   "metadata": {
    "id": "H669P0QK5BI_"
   }
  },
  {
   "cell_type": "code",
   "source": [
    "my_list = list()\n",
    "if bool(my_list) == False:\n",
    "  my_list.append(3)\n",
    "  print(my_list)"
   ],
   "metadata": {
    "id": "ecWlfra45f6E",
    "colab": {
     "base_uri": "https://localhost:8080/"
    },
    "outputId": "14b590c0-3b9e-43de-984a-ee6cf9dfc7f2"
   },
   "execution_count": 27,
   "outputs": [
    {
     "output_type": "stream",
     "name": "stdout",
     "text": [
      "[3]\n"
     ]
    }
   ]
  },
  {
   "cell_type": "markdown",
   "source": [
    "3. Створіть рядок зі своїм імʼям латинкою. Напишіть код, який би автоматизовував наступну задачу.\n",
    "\n",
    "Якщо в імені є літера \"а\"\n",
    " або \"i\", Виведіть на екран повідомлення \"A or I is in the name\".\n",
    "\n",
    "\n",
    "\n",
    "Якщо в імені є літери \"o\" та \"n\", Виведіть на екран повідомлення \"O and N is in the name\".\n",
    "\n",
    "Також якщо в імені немає літери \"о\", але є \"n\", Виведіть на екран повідомлення \"Only N is in the name\".\n",
    "\n",
    "В решті випадків виведіть на екран повідомлення \"There is no N in the name, but there might be O\".\n",
    "\n",
    "Зверніть увагу, що, наприклад, для імені \"Antonina\" буде виведено два повідомлення."
   ],
   "metadata": {
    "id": "h9Y3cMUd5h85"
   }
  },
  {
   "cell_type": "code",
   "source": [
    "my_name = 'oleksandra'\n",
    "\n",
    "if \"a\" in my_name or \"i\" in my_name:\n",
    "    print('A or I is in the name')\n",
    "\n",
    "if \"o\" in my_name and \"n\" in my_name:\n",
    "    print('O and N is in the name')\n",
    "\n",
    "elif \"n\" in my_name and \"o\" not in my_name:\n",
    "    print('Only N is in the name')\n",
    "\n",
    "else:\n",
    "    print('There is no N in the name, but there might be O')"
   ],
   "metadata": {
    "id": "bUH4LUx35u52",
    "colab": {
     "base_uri": "https://localhost:8080/"
    },
    "outputId": "33d3b191-ce0e-494a-a4c0-8db0552436f7"
   },
   "execution_count": 28,
   "outputs": [
    {
     "output_type": "stream",
     "name": "stdout",
     "text": [
      "A or I is in the name\n",
      "O and N is in the name\n"
     ]
    }
   ]
  },
  {
   "cell_type": "markdown",
   "source": [
    "# II. Comprehensions."
   ],
   "metadata": {
    "id": "wPCXJv4354cU"
   }
  },
  {
   "cell_type": "markdown",
   "source": [
    "4. Створіть список, використовуючи if (не if-else), range та comprehension."
   ],
   "metadata": {
    "id": "jULLW5jN55Pw"
   }
  },
  {
   "cell_type": "code",
   "source": [
    "squares = [x for x in range(100) if x**2<100]\n",
    "print(squares)"
   ],
   "metadata": {
    "id": "mlZalnVC6W3F",
    "colab": {
     "base_uri": "https://localhost:8080/"
    },
    "outputId": "4041a24a-39d6-4b60-f408-079432439a10"
   },
   "execution_count": 29,
   "outputs": [
    {
     "output_type": "stream",
     "name": "stdout",
     "text": [
      "[0, 1, 2, 3, 4, 5, 6, 7, 8, 9]\n"
     ]
    }
   ]
  },
  {
   "cell_type": "markdown",
   "source": [
    "5. Створіть словник, використовуючи dict comprehension, що містить if else. Коли слід використовувати comprehensions, а коли їх слід уникати?"
   ],
   "metadata": {
    "id": "LqhEQ4JW6XcC"
   }
  },
  {
   "cell_type": "code",
   "source": [
    "numbers = {x if x%2 == 0 else x*3 for x in range(10)}\n",
    "print(numbers)"
   ],
   "metadata": {
    "id": "1yVaFbOs6hta",
    "colab": {
     "base_uri": "https://localhost:8080/"
    },
    "outputId": "f4a49383-fa41-4868-ff9c-f8887ea5b9ae"
   },
   "execution_count": 30,
   "outputs": [
    {
     "output_type": "stream",
     "name": "stdout",
     "text": [
      "{0, 2, 3, 4, 6, 8, 9, 15, 21, 27}\n"
     ]
    }
   ]
  },
  {
   "cell_type": "markdown",
   "source": [
    "Найкраще використовувати comprehensions для простих завдань, щоб код був читабельним. Якщо код вимагає виклику складних функцій або залучення багаторівневих умовних конструкцій краще цього не робити."
   ],
   "metadata": {
    "id": "wbkzNhKq6hzz"
   }
  },
  {
   "cell_type": "markdown",
   "source": [
    "6. Створіть список з рядками та запишіть його у змінну. Створіть ще один список на основі попереднього, де кожен рядок буде містити тільки три перших заглавних символи. Наприклад: ['hello', 'i', 'dont', 'care'] -> ['HEL', 'I', 'DON', 'CAR']. Використання comprehensions обовʼязкове."
   ],
   "metadata": {
    "id": "ZlqB8G3G6lHP"
   }
  },
  {
   "cell_type": "code",
   "source": [
    "my_list = [\"i\", \"love\", \"you\", \"very\", \"much\"]\n",
    "my_second_list = [word[:3].upper() for word in my_list]\n",
    "print(my_list)\n",
    "print(my_second_list)"
   ],
   "metadata": {
    "id": "nw6rz0bR60VC",
    "colab": {
     "base_uri": "https://localhost:8080/"
    },
    "outputId": "3dca0524-a2c1-486b-d67f-f990ae9fa8b1"
   },
   "execution_count": 31,
   "outputs": [
    {
     "output_type": "stream",
     "name": "stdout",
     "text": [
      "['i', 'love', 'you', 'very', 'much']\n",
      "['I', 'LOV', 'YOU', 'VER', 'MUC']\n"
     ]
    }
   ]
  },
  {
   "cell_type": "markdown",
   "source": [
    "# III. Цикли."
   ],
   "metadata": {
    "id": "Tj573IAH64Fz"
   }
  },
  {
   "cell_type": "markdown",
   "source": [
    "7. Продемонструйте роботу циклу while. Не можна використовувати True для запуску циклу, щоб уникнути безкінечного циклу!"
   ],
   "metadata": {
    "id": "tN_33xdE65H5"
   }
  },
  {
   "cell_type": "code",
   "source": [
    "a = 5\n",
    "while a!=0:\n",
    "  print(a)\n",
    "  a=a-1"
   ],
   "metadata": {
    "id": "Kd9FO6yG63P5",
    "colab": {
     "base_uri": "https://localhost:8080/"
    },
    "outputId": "4bc00ea5-3155-44c7-cfe8-d8c4d67d397e"
   },
   "execution_count": 32,
   "outputs": [
    {
     "output_type": "stream",
     "name": "stdout",
     "text": [
      "5\n",
      "4\n",
      "3\n",
      "2\n",
      "1\n"
     ]
    }
   ]
  },
  {
   "cell_type": "markdown",
   "source": [
    "8. Напишіть програму, яка виведе на екран непарні числа в діапазоні від 0 до 20 включно."
   ],
   "metadata": {
    "id": "x2CmfZO-7pW0"
   }
  },
  {
   "cell_type": "code",
   "source": [
    "for i in range(21):\n",
    "  if i%2!=0:\n",
    "    print(i)"
   ],
   "metadata": {
    "id": "aCSRYA6s7tkF",
    "colab": {
     "base_uri": "https://localhost:8080/"
    },
    "outputId": "2335c415-2271-4bcc-ae14-651a1fee86d1"
   },
   "execution_count": 33,
   "outputs": [
    {
     "output_type": "stream",
     "name": "stdout",
     "text": [
      "1\n",
      "3\n",
      "5\n",
      "7\n",
      "9\n",
      "11\n",
      "13\n",
      "15\n",
      "17\n",
      "19\n"
     ]
    }
   ]
  },
  {
   "cell_type": "markdown",
   "source": [
    "9. Створіть список з елементами булевого типу або None. Використовуючи цикли, отримайте в результаті список з кортежами, де перший елемент кортежу - індекс(ціле число), а другий елемент - відповідне значення з першого списку.\n",
    "\n",
    "Наприклад, [True, True, None, False] -> [(0, True), (1, True), (2, None), (3, False)]"
   ],
   "metadata": {
    "id": "MDWNocZD7t_B"
   }
  },
  {
   "cell_type": "code",
   "source": [
    "my_list = [True, True, None, False]\n",
    "my_new_list = []\n",
    "\n",
    "i = 0\n",
    "for every_value in my_list:\n",
    "    my_new_list.append((i, every_value))\n",
    "    i += 1\n",
    "\n",
    "print(my_new_list)"
   ],
   "metadata": {
    "id": "0EUyjMdp7yfh",
    "colab": {
     "base_uri": "https://localhost:8080/"
    },
    "outputId": "081ff3a7-9a43-43b7-809d-81b61d500dd8"
   },
   "execution_count": 34,
   "outputs": [
    {
     "output_type": "stream",
     "name": "stdout",
     "text": [
      "[(0, True), (1, True), (2, None), (3, False)]\n"
     ]
    }
   ]
  },
  {
   "cell_type": "markdown",
   "source": [
    "10. Створіть словник, де ключі - назви книжок, а значення - їхня кількість у наявності в Вашій міні-бібліотеці. Бібліотека має містити щонайменше 6 книжок (6 пар значень у словнику) і щонайбільше 10 (пар значень). Використовуючи цикли, оновіть словник (не створюйте новий) так, щоби кількість книг у наявності збільшилося на 5 кожної книги. Наприклад,\n",
    "{'It': 3, 'Fault stars': 10, 'Bible': 17, 'Psychological romance': 4, 'Harry Potter': 13} -> {'It': 8, 'Fault stars': 15, 'Bible': 22, 'Psychological romance': 9, 'Harry Potter': 18}"
   ],
   "metadata": {
    "id": "-6XUqlcG7zKs"
   }
  },
  {
   "cell_type": "code",
   "source": [
    "my_books = {'It': 3, 'Fault stars': 10, 'Bible': 17, 'Psychological romance': 4, 'Harry Potter': 13, 'Timiredis': 11, 'History': 2, 'Hobbit': 16, 'Divirgent': 5, 'Hamlet': 6}\n",
    "for key in my_books:\n",
    "  my_books[key] += 5\n",
    "print(my_books)\n",
    "\n",
    "# my_dict = {'It': 3, 'Fault stars': 10, 'Bible': 17, 'Psychological romance': 4, 'Harry Potter': 13, 'Timiredis': 11, 'History': 2, 'Hobbit': 16, 'Divirgent': 5, 'Hamlet': 6}\n",
    "# my_dict.update((key, value + 5) for key, value in my_dict.items())\n",
    "# print(my_dict)"
   ],
   "metadata": {
    "id": "Ceoj9wwb791q",
    "colab": {
     "base_uri": "https://localhost:8080/"
    },
    "outputId": "404fd9ef-ef53-433b-cb08-5c0d712159cf"
   },
   "execution_count": 35,
   "outputs": [
    {
     "output_type": "stream",
     "name": "stdout",
     "text": [
      "{'It': 8, 'Fault stars': 15, 'Bible': 22, 'Psychological romance': 9, 'Harry Potter': 18, 'Timiredis': 16, 'History': 7, 'Hobbit': 21, 'Divirgent': 10, 'Hamlet': 11}\n"
     ]
    }
   ]
  },
  {
   "cell_type": "markdown",
   "source": [
    "11. Визначте цілочислену змінну n, що належить проміжку від 4 до 10 включно. Використовуючи цикли, виведіть в консоль наступний патерн.\n",
    "\n",
    "#\n",
    "##\n",
    "###\n",
    "####\n",
    "\n",
    "... #*n\n"
   ],
   "metadata": {
    "id": "QLzyJM288AC7"
   }
  },
  {
   "cell_type": "code",
   "source": [
    "n = 5\n",
    "m = \"#\"\n",
    "for i in range(1, n + 1):\n",
    "    print(m * i)"
   ],
   "metadata": {
    "id": "KOpng87s8Duz",
    "colab": {
     "base_uri": "https://localhost:8080/"
    },
    "outputId": "faa17090-1aec-426b-b6de-237e2bca5ad0"
   },
   "execution_count": 36,
   "outputs": [
    {
     "output_type": "stream",
     "name": "stdout",
     "text": [
      "#\n",
      "##\n",
      "###\n",
      "####\n",
      "#####\n"
     ]
    }
   ]
  },
  {
   "cell_type": "markdown",
   "source": [
    "12. Гра \"Нумо вгадай\".\n",
    "Розробіть просту гру, де користувач має вгадати випадкове число від 1 до 100. Для генерації випадкового числа використовуйте функцію random.randint(a, b) (тут a та b включно). Для отримання числа з консолі використовуйте функцію input(), результат якої обовʼязково явно приведіть до типу int.\n",
    "\n",
    "Підказка: використовуйте цикл while та умови if-else, щоб повідомити користувачу піказки (напр. \"Більше\", \"Менше\") поки користувач не вгадає. По завершенню виведіть кількість спроб, які знадобилися для вгадування."
   ],
   "metadata": {
    "id": "_bd-bqAT8EHn"
   }
  },
  {
   "cell_type": "code",
   "source": [
    "import random\n",
    "\n",
    "print('Це гра \"вгадай число\"! Спробуй вгадати значення від 1 до 100')\n",
    "number = random.randint(1, 100)\n",
    "while guess!=number:\n",
    "  guess = int(input('Введіть будь-яке число: '))\n",
    "  if number > guess:\n",
    "    print('Більше')\n",
    "  elif number < guess:\n",
    "    print('Менше')\n",
    "  else:\n",
    "    print('Ура! Ви вгадали')"
   ],
   "metadata": {
    "id": "IK9nnxFK8Hkl",
    "colab": {
     "base_uri": "https://localhost:8080/"
    },
    "outputId": "bc65794a-3a87-4816-fc8f-8cdf08a23d42"
   },
   "execution_count": 37,
   "outputs": [
    {
     "output_type": "stream",
     "name": "stdout",
     "text": [
      "Це гра \"вгадай число\"! Спробуй вгадати значення від 1 до 100\n",
      "Введіть будь-яке число: 67\n",
      "Більше\n",
      "Введіть будь-яке число: 89\n",
      "Менше\n",
      "Введіть будь-яке число: 74\n",
      "Більше\n",
      "Введіть будь-яке число: 78\n",
      "Більше\n",
      "Введіть будь-яке число: 80\n",
      "Більше\n",
      "Введіть будь-яке число: 83\n",
      "Більше\n",
      "Введіть будь-яке число: 85\n",
      "Більше\n",
      "Введіть будь-яке число: 87\n",
      "Ура! Ви вгадали\n"
     ]
    }
   ]
  },
  {
   "cell_type": "markdown",
   "source": [
    "# Вітаю! Ви велика(ий) молодець, що впоралась(вся). Похваліть себе та побалуйте чимось приємним. Я Вами пишаюся."
   ],
   "metadata": {
    "id": "PXoXWb7Z8IGi"
   }
  }
 ]
}
