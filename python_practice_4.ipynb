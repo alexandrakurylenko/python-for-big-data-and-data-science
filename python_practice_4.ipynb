{
  "nbformat": 4,
  "nbformat_minor": 0,
  "metadata": {
    "colab": {
      "provenance": []
    },
    "kernelspec": {
      "name": "python3",
      "display_name": "Python 3"
    },
    "language_info": {
      "name": "python"
    }
  },
  "cells": [
    {
      "cell_type": "markdown",
      "source": [
        "# I. Functions. Arguments."
      ],
      "metadata": {
        "id": "kXpppdVm6wFy"
      }
    },
    {
      "cell_type": "markdown",
      "source": [
        "1. (5б) Назвіть основні 4 смислові  частини, з яких складається функція."
      ],
      "metadata": {
        "id": "u_krJdlbAkVz"
      }
    },
    {
      "cell_type": "markdown",
      "source": [
        "Назва, параметри, тіло функції та повернення значення (return та result)"
      ],
      "metadata": {
        "id": "KKTrTXmHAptb"
      }
    },
    {
      "cell_type": "markdown",
      "source": [
        "2. (3б) Визначте функцію, що приймає 2 аргументи та повертає результат ділення 1го аргумента на інший."
      ],
      "metadata": {
        "id": "ORM4PqJQAtDM"
      }
    },
    {
      "cell_type": "code",
      "execution_count": 32,
      "metadata": {
        "id": "EuDx-z8M6sLo"
      },
      "outputs": [],
      "source": [
        "def divide(num_1, num_2):\n",
        "  result = num_1/num_2\n",
        "  return result"
      ]
    },
    {
      "cell_type": "markdown",
      "source": [
        "3. (2б) Викличте вище визначену функцію, де другий аргумент дорівнює 0."
      ],
      "metadata": {
        "id": "5joQGQ-SAyMe"
      }
    },
    {
      "cell_type": "code",
      "source": [
        "divide(1, num_2 = 0)"
      ],
      "metadata": {
        "id": "V5cBV1LOA3d-",
        "colab": {
          "base_uri": "https://localhost:8080/",
          "height": 224
        },
        "outputId": "940790ea-dd1d-4b9d-cfbf-f249b50b4cd1"
      },
      "execution_count": 33,
      "outputs": [
        {
          "output_type": "error",
          "ename": "ZeroDivisionError",
          "evalue": "division by zero",
          "traceback": [
            "\u001b[0;31m---------------------------------------------------------------------------\u001b[0m",
            "\u001b[0;31mZeroDivisionError\u001b[0m                         Traceback (most recent call last)",
            "\u001b[0;32m<ipython-input-33-07c04efbfc77>\u001b[0m in \u001b[0;36m<cell line: 1>\u001b[0;34m()\u001b[0m\n\u001b[0;32m----> 1\u001b[0;31m \u001b[0mdivide\u001b[0m\u001b[0;34m(\u001b[0m\u001b[0;36m1\u001b[0m\u001b[0;34m,\u001b[0m \u001b[0mnum_2\u001b[0m \u001b[0;34m=\u001b[0m \u001b[0;36m0\u001b[0m\u001b[0;34m)\u001b[0m\u001b[0;34m\u001b[0m\u001b[0;34m\u001b[0m\u001b[0m\n\u001b[0m",
            "\u001b[0;32m<ipython-input-32-a62305f5013f>\u001b[0m in \u001b[0;36mdivide\u001b[0;34m(num_1, num_2)\u001b[0m\n\u001b[1;32m      1\u001b[0m \u001b[0;32mdef\u001b[0m \u001b[0mdivide\u001b[0m\u001b[0;34m(\u001b[0m\u001b[0mnum_1\u001b[0m\u001b[0;34m,\u001b[0m \u001b[0mnum_2\u001b[0m\u001b[0;34m)\u001b[0m\u001b[0;34m:\u001b[0m\u001b[0;34m\u001b[0m\u001b[0;34m\u001b[0m\u001b[0m\n\u001b[0;32m----> 2\u001b[0;31m   \u001b[0mresult\u001b[0m \u001b[0;34m=\u001b[0m \u001b[0mnum_1\u001b[0m\u001b[0;34m/\u001b[0m\u001b[0mnum_2\u001b[0m\u001b[0;34m\u001b[0m\u001b[0;34m\u001b[0m\u001b[0m\n\u001b[0m\u001b[1;32m      3\u001b[0m   \u001b[0;32mreturn\u001b[0m \u001b[0mresult\u001b[0m\u001b[0;34m\u001b[0m\u001b[0;34m\u001b[0m\u001b[0m\n",
            "\u001b[0;31mZeroDivisionError\u001b[0m: division by zero"
          ]
        }
      ]
    },
    {
      "cell_type": "markdown",
      "source": [
        "4. (4б) Перевизначте функцію так, щоби у випадку ділення на 0 функція повертала None, а в решті випадків - результат розрахунків."
      ],
      "metadata": {
        "id": "QyimWgW8A43-"
      }
    },
    {
      "cell_type": "code",
      "source": [
        "def divide(num_1, num_2):\n",
        "  if num_2 == 0:\n",
        "    return None\n",
        "  result = num_1/num_2\n",
        "  return result\n",
        "\n",
        "\n",
        "print(divide(2, 0))"
      ],
      "metadata": {
        "id": "7VIODtSjA8Ek",
        "colab": {
          "base_uri": "https://localhost:8080/"
        },
        "outputId": "7c20707a-e2e1-46ac-b176-bb900dc10882"
      },
      "execution_count": 35,
      "outputs": [
        {
          "output_type": "stream",
          "name": "stdout",
          "text": [
            "None\n"
          ]
        }
      ]
    },
    {
      "cell_type": "markdown",
      "source": [
        "5. (5б) Визначте функцію, що віднімає одне число від іншого (підказка: це буде 2 аргументи функції). При чому, якщо не визначити, скільки саме має бути віднято від числа, за замовчуванням має відніматися 1. Викличте функцію, передаючи тільки один аргумент."
      ],
      "metadata": {
        "id": "Y8mN0GfkA81l"
      }
    },
    {
      "cell_type": "code",
      "source": [
        "def subtraction(num_1, num_2=1):\n",
        "  result = num_1-num_2\n",
        "  return result\n",
        "\n",
        "subtraction(2)"
      ],
      "metadata": {
        "id": "vg1kxkdgBA50",
        "colab": {
          "base_uri": "https://localhost:8080/"
        },
        "outputId": "21a85481-f3ee-4899-ac21-0ea1e9121533"
      },
      "execution_count": 36,
      "outputs": [
        {
          "output_type": "execute_result",
          "data": {
            "text/plain": [
              "1"
            ]
          },
          "metadata": {},
          "execution_count": 36
        }
      ]
    },
    {
      "cell_type": "markdown",
      "source": [
        "6. (7б) Визначте функцію, яка приймає iterable (ітерабельний обʼєкт, напр. список), що складається з 7ми рядкових значень - назв погодних умов (напр. \"sunny\") за кожен день у тижні. Повертає функція словник, де ключами є рядки з погодними умовами, а значеннями - кількість разів, скільки дана погода була протягом тижня (напр. {'sunny': 1, ...}). Викличте цю функцію та виведіть результат її роботи на екран."
      ],
      "metadata": {
        "id": "D3mwQGNOBBs4"
      }
    },
    {
      "cell_type": "code",
      "source": [
        "from collections import Counter\n",
        "\n",
        "def get_counted_dict(my_list: list) -> dict:\n",
        "    weather_dict = dict(Counter(my_list))\n",
        "    print(f\"Кількість різних погодних умов = {len(weather_dict)}\")\n",
        "    return weather_dict\n",
        "\n",
        "my_list = ['sunny', 'cloudy', 'sunny', 'rainy', 'partly cloudy', 'rainy', 'sunny']\n",
        "counted = get_counted_dict(my_list)\n",
        "print(counted)"
      ],
      "metadata": {
        "id": "OsWm-hKcBFyn",
        "colab": {
          "base_uri": "https://localhost:8080/"
        },
        "outputId": "e424322c-2aa5-4217-92a8-84e61a4c12b5"
      },
      "execution_count": 37,
      "outputs": [
        {
          "output_type": "stream",
          "name": "stdout",
          "text": [
            "Кількість різних погодних умов = 4\n",
            "{'sunny': 3, 'cloudy': 1, 'rainy': 2, 'partly cloudy': 1}\n"
          ]
        }
      ]
    },
    {
      "cell_type": "markdown",
      "source": [
        "7. (15б) Напишіть програму, яка б шукала необхідне число у впорядкованому списку цілочислених значень, де\n",
        "число має вводитись з консолі.\n",
        "власне алгоритм пошуку винесений в окрему функцію, яка повертає булеве значення (знайдено число - True, не знайдено - False).\n",
        "в залежності від результату функції, виведіть на екран повідомлення про успішний або ж неуспішний пошук.\n",
        "Зауваження: використовувати оператор in заборонено."
      ],
      "metadata": {
        "id": "RMiCcdOsBKQT"
      }
    },
    {
      "cell_type": "code",
      "source": [
        "def find_number(number, counter):\n",
        "  for index in my_list:\n",
        "    if index!=number:\n",
        "      index = index+1\n",
        "      counter = counter+1\n",
        "    else:\n",
        "      print(True)\n",
        "  if counter == len(my_list):\n",
        "    print(False)\n",
        "\n",
        "\n",
        "my_list = [1, 2, 3, 4, 5, 6, 7, 8, 9, 10]\n",
        "number = int(input('Enter an integer, please: '))\n",
        "counter = 0\n",
        "\n",
        "find_number(number, counter)"
      ],
      "metadata": {
        "id": "UNCZg65OBOy-",
        "colab": {
          "base_uri": "https://localhost:8080/"
        },
        "outputId": "a218d165-1dd8-4016-d732-eafa0d60ceab"
      },
      "execution_count": 38,
      "outputs": [
        {
          "output_type": "stream",
          "name": "stdout",
          "text": [
            "Enter an integer, please: 78\n",
            "False\n"
          ]
        }
      ]
    },
    {
      "cell_type": "markdown",
      "source": [
        "# II. Lambda functions."
      ],
      "metadata": {
        "id": "Ae1n_OvLBTsy"
      }
    },
    {
      "cell_type": "markdown",
      "source": [
        "R8. (4б) В яких випадках варто використовувати лямбда-функції?"
      ],
      "metadata": {
        "id": "xaD_wSlaCWen"
      }
    },
    {
      "cell_type": "markdown",
      "source": [
        "Замість циклу можна використати лямбда-функцію задля покращення читабельності та зрозумілості коду. Коли ця функція не є складною та краще сприймається в такому форматі"
      ],
      "metadata": {
        "id": "42MB6OoLCakR"
      }
    },
    {
      "cell_type": "markdown",
      "source": [
        "9. (9б) Визначте список з рядками. Після цього визначте анонімну функцію для отримання першого символу у верхньому регістрі для кожного рядка списку.\n",
        "Підказка: використовуйте анонімну функцію в якості агрумента до вбудованої ф-ції, яка створена для застосування функцій над iterable обʼєктами. Результат виведіть на екран у вигляді кортежу."
      ],
      "metadata": {
        "id": "USrzrk7GCedk"
      }
    },
    {
      "cell_type": "code",
      "source": [
        "my_list = ['ben', 'mavis', 'johnny', 'elis']\n",
        "def get_letter(my_list: list) -> tuple:\n",
        "  my_tuple = tuple(map(lambda i: i[0].upper(), my_list))\n",
        "  return my_tuple\n",
        "\n",
        "\n",
        "get_letter(my_list)"
      ],
      "metadata": {
        "id": "M8QWUsMlCjWH",
        "colab": {
          "base_uri": "https://localhost:8080/"
        },
        "outputId": "9b799310-ea89-4ef9-f1ca-30446b0dbea0"
      },
      "execution_count": null,
      "outputs": [
        {
          "output_type": "execute_result",
          "data": {
            "text/plain": [
              "('B', 'M', 'J', 'E')"
            ]
          },
          "metadata": {},
          "execution_count": 9
        }
      ]
    },
    {
      "cell_type": "markdown",
      "source": [
        "10. (10б) Визначте список з числовими значеннями (і цілими, і з рухомою комою). а) Відфільтруйте всі числа, які діляться націло на 3 за допомогою вбудованої функції та анонімної функції в якості аргумента). Збережіть результат у змінній, не приводяти явно до будь-якого типу. б) Використовуючи результат на кроці 12.а у якості аргументу, та за допомогою лямбда-функції в якості іншого аргументу до вбудованої функції, додайте до кожного елементу число 1 та опісля зведіть у квадрат. Остаточний результат приведіть явно до списку та виведіть на екран."
      ],
      "metadata": {
        "id": "9fyUhXOoCtGp"
      }
    },
    {
      "cell_type": "code",
      "source": [
        "my_list = [1, 2.2, 3, 4.5, 5, 6, 7.4, 8.6, 9, 10.0]\n",
        "numbers_1 = filter(lambda x: x % 3 == 0, my_list)\n",
        "numbers_2 = map(lambda x: (x+1)**2, numbers_1)\n",
        "print(list(numbers_2))"
      ],
      "metadata": {
        "id": "exEx2_okCsql",
        "colab": {
          "base_uri": "https://localhost:8080/"
        },
        "outputId": "4cabecb5-3f02-4d31-c980-1cce3d6f93fc"
      },
      "execution_count": 31,
      "outputs": [
        {
          "output_type": "stream",
          "name": "stdout",
          "text": [
            "[16, 49, 100]\n"
          ]
        }
      ]
    },
    {
      "cell_type": "markdown",
      "source": [
        "# III. Decorators."
      ],
      "metadata": {
        "id": "o_x8cG_WC7jp"
      }
    },
    {
      "cell_type": "markdown",
      "source": [
        "11. (11б) Визначте декоратор, який би виводив у консоль повідомлення про початок роботи і назву функції (напр. my_function._ _ name _ _), а після відпрацювання функції - повідомлення про закінчення роботи і назву функції, що задекорована."
      ],
      "metadata": {
        "id": "mhxS4-mfC8LQ"
      }
    },
    {
      "cell_type": "code",
      "source": [
        "def my_decorator(func):\n",
        "    def wrapper():\n",
        "     print(f'The work of {func.__name__} has started.')\n",
        "     func()\n",
        "     print(f'The work of {func.__name__} has finished, and it has been decorated.')\n",
        "    return wrapper\n",
        "\n",
        "@my_decorator\n",
        "def say_hi():\n",
        "    print('Hello')\n",
        "\n",
        "say_hi()"
      ],
      "metadata": {
        "id": "srd1ygWjDGhO",
        "colab": {
          "base_uri": "https://localhost:8080/"
        },
        "outputId": "2b0cb781-c909-4afb-937e-5d7cb190b734"
      },
      "execution_count": null,
      "outputs": [
        {
          "output_type": "stream",
          "name": "stdout",
          "text": [
            "The work of say_hi has started.\n",
            "Hello\n",
            "The work of say_hi has finished, and it has been decorated.\n"
          ]
        }
      ]
    },
    {
      "cell_type": "markdown",
      "source": [
        "12. (4б) Задекоруйте двома різними способами функції з завдання 4 та 5 декоратором із завдання 11. (**УВАГА**: не декоруйте функції двічі!)."
      ],
      "metadata": {
        "id": "rxGZwVBiDph3"
      }
    },
    {
      "cell_type": "code",
      "source": [
        "def my_decorator(func):\n",
        "    def wrapper(*args, **kwargs):\n",
        "        print(f'The work of {func.__name__} has started.')\n",
        "        result = func(*args, **kwargs)\n",
        "        print(f'The work of {func.__name__} has finished, and it has been decorated.')\n",
        "        return result\n",
        "    return wrapper\n",
        "\n",
        "@my_decorator\n",
        "def divide(num_1, num_2):\n",
        "    if num_2 == 0:\n",
        "        return None\n",
        "    result = num_1 / num_2\n",
        "    return result\n",
        "\n",
        "\n",
        "def subtraction(num_1, num_2=1):\n",
        "    result = num_1 - num_2\n",
        "    return result\n",
        "\n",
        "\n",
        "decorated_subtraction = my_decorator(subtraction)\n",
        "decorated_subtraction(2)"
      ],
      "metadata": {
        "id": "06lj7eq_DwZe",
        "colab": {
          "base_uri": "https://localhost:8080/"
        },
        "outputId": "8328012a-569f-4f59-d3af-dc47af2df18a"
      },
      "execution_count": null,
      "outputs": [
        {
          "output_type": "stream",
          "name": "stdout",
          "text": [
            "The work of subtraction has started.\n",
            "The work of subtraction has finished, and it has been decorated.\n"
          ]
        },
        {
          "output_type": "execute_result",
          "data": {
            "text/plain": [
              "1"
            ]
          },
          "metadata": {},
          "execution_count": 16
        }
      ]
    },
    {
      "cell_type": "markdown",
      "source": [
        "13. (2б) Викличте одну з задекорованих функцій і виведіть її результат на екран."
      ],
      "metadata": {
        "id": "P0ep1urBDzf-"
      }
    },
    {
      "cell_type": "code",
      "source": [
        "print(divide(2, 1))"
      ],
      "metadata": {
        "id": "1QvTw0ctD0S3",
        "colab": {
          "base_uri": "https://localhost:8080/"
        },
        "outputId": "3f30069b-dc22-4fe5-9a08-0d6570effc8f"
      },
      "execution_count": null,
      "outputs": [
        {
          "output_type": "stream",
          "name": "stdout",
          "text": [
            "The work of divide has started.\n",
            "The work of divide has finished, and it has been decorated.\n",
            "2.0\n"
          ]
        }
      ]
    },
    {
      "cell_type": "markdown",
      "source": [
        "# IV. Recursion."
      ],
      "metadata": {
        "id": "poECCpuoD2S9"
      }
    },
    {
      "cell_type": "markdown",
      "source": [
        "14. (4б) Назвіть дві частини функції, які є обовʼязковими для того, щоб називати її рекурсивною."
      ],
      "metadata": {
        "id": "DqkURfdsD7MY"
      }
    },
    {
      "cell_type": "markdown",
      "source": [
        "Базова частина:  Вона визначає умову, при якій функція повертає значення без здійснення подальших рекурсивних викликів.\n",
        "Рекурсивна частина: Це частина функції, де вона викликає саму себе з новим набором параметрів, які наближають рішення до базового випадку."
      ],
      "metadata": {
        "id": "HYW6ttIeIQIU"
      }
    },
    {
      "cell_type": "markdown",
      "source": [
        "15. (15б) Визначте функцію, яка рекурсивно реалізовує пошук числа у послідовності Фібоначчі за її індексом (нумерація починається з нуля). Наприклад, потрібно знайти перше число у послідовності, тоді функція прийматиме 0 у якості аргумента і повертатиме 1, якщо ж знаходити третє число (індекс 2) послідовності, то функція повертатиме 2, якщо ж знаходити десяте число (індекс 9), то функція повертатиме 55."
      ],
      "metadata": {
        "id": "WYVt20UmEA35"
      }
    },
    {
      "cell_type": "code",
      "source": [
        "def fibonacci(num):\n",
        "  if num == 0:\n",
        "    return 0\n",
        "  if num ==1:\n",
        "    return 1\n",
        "  return fibonacci(num-1) + fibonacci(num-2)\n",
        "\n",
        "fibonacci(5)"
      ],
      "metadata": {
        "id": "xIMhp05AIpV_",
        "colab": {
          "base_uri": "https://localhost:8080/"
        },
        "outputId": "d89b4792-728a-4dc4-91ad-129ef12bce63"
      },
      "execution_count": 28,
      "outputs": [
        {
          "output_type": "execute_result",
          "data": {
            "text/plain": [
              "5"
            ]
          },
          "metadata": {},
          "execution_count": 28
        }
      ]
    },
    {
      "cell_type": "markdown",
      "source": [
        "# Вітаю! Ви велика(ий) молодець, що впоралась(вся). Похваліть себе та побалуйте чимось приємним. Я Вами пишаюся."
      ],
      "metadata": {
        "id": "ytXC8n_4Ip0W"
      }
    }
  ]
}